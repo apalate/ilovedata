{
  "nbformat": 4,
  "nbformat_minor": 0,
  "metadata": {
    "colab": {
      "name": "verzamelingen.ipynb",
      "provenance": []
    },
    "kernelspec": {
      "name": "python3",
      "display_name": "Python 3"
    }
  },
  "cells": [
    {
      "cell_type": "markdown",
      "metadata": {
        "id": "dkp1lMvzOH72",
        "colab_type": "text"
      },
      "source": [
        "#Programmeren met verzamelingen\n",
        "\n",
        "## Definitie en notatie van verzamelingen\n",
        "Verzamelingen zijn een afgebakend geheel van unieke elementen. Een team kan bijvoorbeeld worden beschreven als een verzameling van personen en iedere persoon is uniek.\n",
        "\n",
        "In onderstaande voorbeeld beschrijven we twee teams, A en B."
      ]
    },
    {
      "cell_type": "code",
      "metadata": {
        "id": "zBf9S9Ib0xL8",
        "colab_type": "code",
        "colab": {}
      },
      "source": [
        "A = {\"Jan\", \"Piet\", \"Klaas\", \"Cornelis\", \"Stijn\"}\n",
        "B = {\"Jan\", \"Piet\", \"Klaas\"}\n",
        "print(\"A =\", A, \"en B =\", B)"
      ],
      "execution_count": 0,
      "outputs": []
    },
    {
      "cell_type": "markdown",
      "metadata": {
        "id": "ztQYIN_-4KMs",
        "colab_type": "text"
      },
      "source": [
        "We kunnen de verzameling A ook als volgt beschrijven:\n",
        "\n",
        "$$ A = \\{x\\ | \\ x \\ is\\ lid\\ van\\ Team\\ A \\} $$"
      ]
    },
    {
      "cell_type": "markdown",
      "metadata": {
        "id": "Tkx70VTj3KGu",
        "colab_type": "text"
      },
      "source": [
        "### Elementen\n",
        "We kunnen nu een variabele $x$ aanmaken en die de waarde $\"Stijn\"$ geven\n",
        "\n",
        "$$x = \"Stijn\"$$\n",
        "\n",
        "We testen of $x$ een onderdeel is van de verzamelingen $A$ en $B$.\n",
        "\n",
        "$$x \\in A , \\quad x\\in B$$\n",
        "\n",
        "Wat verwacht je dat de uitkomst zal zijn?"
      ]
    },
    {
      "cell_type": "code",
      "metadata": {
        "id": "uJEdELPr3PWs",
        "colab_type": "code",
        "colab": {}
      },
      "source": [
        "x = \"Stijn\"\n",
        "print(x in A, x in B)"
      ],
      "execution_count": 0,
      "outputs": []
    },
    {
      "cell_type": "markdown",
      "metadata": {
        "id": "h-5MWtMe7jwN",
        "colab_type": "text"
      },
      "source": [
        "## Relaties tussen verzamelingen\n",
        "\n",
        "De verzameling die geen enkel element bevat is de lege verzameling:\n",
        "\n",
        "$$\\varnothing = \\{\\}$$"
      ]
    },
    {
      "cell_type": "code",
      "metadata": {
        "id": "wbjV34o673PQ",
        "colab_type": "code",
        "colab": {}
      },
      "source": [
        "Phi = {}\n",
        "print(len(Phi))"
      ],
      "execution_count": 0,
      "outputs": []
    },
    {
      "cell_type": "markdown",
      "metadata": {
        "id": "49bqt5Fz8q-k",
        "colab_type": "text"
      },
      "source": [
        "### Gelijke verzamelingen\n",
        "\n",
        "Twee verzamelingen die dezelfde elementen bevatten en geen andere zijn gelijk. Hierbij maakt de volgorde niet uit. Let ook op de betekenis van uniek. Hoeveel elementen tel je in $C$?\n",
        "\n",
        "$$A = C$$"
      ]
    },
    {
      "cell_type": "code",
      "metadata": {
        "id": "cITWy_PR9M92",
        "colab_type": "code",
        "colab": {}
      },
      "source": [
        "C = {\"Jan\", \"Cornelis\", \"Piet\", \"Klaas\", \"Stijn\", \"Stijn\"}\n",
        "\n",
        "print(\"A is gelijk aan C:\", A == C, \". Het aantal elementen in C is\", len(C))"
      ],
      "execution_count": 0,
      "outputs": []
    },
    {
      "cell_type": "markdown",
      "metadata": {
        "id": "Do-IZ89F-pV5",
        "colab_type": "text"
      },
      "source": [
        "### Deelverzameling\n",
        "\n",
        "Vezameling B is een deelverzameling van A indien A alle elementen van B bevat.\n",
        "\n",
        "$$B \\subset A$$\n",
        "\n",
        "In dit geval geldt tevens dat verzameling A verzameling B omvat.\n",
        "\n",
        "$$A \\supset B$$\n",
        "De lege verzameling ($\\varnothing$) is een subset van iedere verzameling."
      ]
    },
    {
      "cell_type": "markdown",
      "metadata": {
        "id": "EyVGzPjk_fsE",
        "colab_type": "text"
      },
      "source": [
        "### Doorsnede en vereniging\n",
        "\n",
        "De doorsnede van twee verzamelingen A en D is de verzameling van elementen die zowel in A als in D voorkomen.\n",
        "\n",
        "$$A \\cap D$$"
      ]
    },
    {
      "cell_type": "code",
      "metadata": {
        "id": "XyzWd3pR2nv5",
        "colab_type": "code",
        "colab": {}
      },
      "source": [
        "D = {\"Jan\", \"Piet\", \"Bart\"}\n",
        "D.intersection(A)"
      ],
      "execution_count": 0,
      "outputs": []
    },
    {
      "cell_type": "markdown",
      "metadata": {
        "id": "zYsjs840CQ6H",
        "colab_type": "text"
      },
      "source": [
        "Twee verzamelingen, waarvan de doorsnede de lege verzameling is, worden disjuncte verzamelingen genoemd."
      ]
    },
    {
      "cell_type": "code",
      "metadata": {
        "id": "vze_VRqgCmef",
        "colab_type": "code",
        "colab": {}
      },
      "source": [
        "E = {\"Klaas\", \"Stijn\"}\n",
        "F = D.intersection(E)\n",
        "print(len(F))"
      ],
      "execution_count": 0,
      "outputs": []
    },
    {
      "cell_type": "markdown",
      "metadata": {
        "id": "QsV8lpqJDNOq",
        "colab_type": "text"
      },
      "source": [
        "### Vereniging\n",
        "\n",
        "De vereniging van twee verzamelingen A en D is die verzameling waarvan de elementen tot A of tot D of tot beide behoren.\n",
        "\n",
        "$$A \\cup D$$"
      ]
    },
    {
      "cell_type": "code",
      "metadata": {
        "id": "s3ZRiS1m2kBA",
        "colab_type": "code",
        "colab": {}
      },
      "source": [
        "A.union(D)"
      ],
      "execution_count": 0,
      "outputs": []
    },
    {
      "cell_type": "markdown",
      "metadata": {
        "id": "FE5JBvzw8aEg",
        "colab_type": "text"
      },
      "source": [
        "### Getallenverzamelingen\n",
        "\n",
        "Ook getallen kunnen als verzamelingen worden beschreven. De eenvoudigste getallen die we kennen, zijn de getallen waarmee we tellen. Dit zijn de positieve getallen of de Natuurlijke getallen. De verzameling van deze getallen wordt aangeduid met $\\mathbb{N}$.\n",
        "\n",
        "Belangrijk is te beseffen dat voor getallenverzamelingen de volgorde wel belangrijk is, omdat een rangorde geldt. Je kunt de getallen op een getallenlijn plaatsen en indien getal $a$ rechts van $b$ ligt, is $a$ groter dan $b$\n",
        "\n",
        "$$a > b$$\n",
        "\n",
        "oftewel $b$ is kleiner dan $a$\n",
        "\n",
        "$$b < a$$\n",
        "\n",
        "Dus: $100 > 80$ en $30 < 40$\n",
        "\n",
        "Vanaf hier gaan we daarom werken met het datatype `list`. Dit datatype houdt rekening met volgorde."
      ]
    },
    {
      "cell_type": "code",
      "metadata": {
        "id": "1Qx_a5VEOeNu",
        "colab_type": "code",
        "colab": {}
      },
      "source": [
        "N = list(range(0,11))\n",
        "print(N)"
      ],
      "execution_count": 0,
      "outputs": []
    },
    {
      "cell_type": "markdown",
      "metadata": {
        "id": "d0BI9xWyTZhu",
        "colab_type": "text"
      },
      "source": [
        "Als we aan $\\mathbb{N}$ alle negatieve getallen toevoegen krijgen we de verzameling van alle gehele getallen, $\\mathbb{Z}$."
      ]
    },
    {
      "cell_type": "code",
      "metadata": {
        "id": "LjTrRWO9dXb9",
        "colab_type": "code",
        "colab": {}
      },
      "source": [
        "Z = list(range(-10,0))\n",
        "Z.extend(N)\n",
        "print(Z)"
      ],
      "execution_count": 0,
      "outputs": []
    },
    {
      "cell_type": "markdown",
      "metadata": {
        "id": "TuKc6Qsoy3yW",
        "colab_type": "text"
      },
      "source": [
        "Op de getallenlijn liggen nog oneindig veel gebroken getallen, bijvoorbeeld $\\frac{2}{5}$. De verzameling $\\mathbb{Z}$ uitgebreid met de gebroken getallen vormen de verzameling van rationale getallen (quotienten), $\\mathbb{Q}$."
      ]
    },
    {
      "cell_type": "code",
      "metadata": {
        "id": "7WhN1T65z1cc",
        "colab_type": "code",
        "colab": {}
      },
      "source": [
        "Q = [1/4, 5/2, 16/5, 24/5]\n",
        "Q.extend(Z)\n",
        "print(sorted(Q))"
      ],
      "execution_count": 0,
      "outputs": []
    },
    {
      "cell_type": "markdown",
      "metadata": {
        "id": "AkrrIRor1jp9",
        "colab_type": "text"
      },
      "source": [
        "Er zijn ook nog getallen die niet als een ratio (vandaar de term 'rationaal')\n",
        "\n",
        "$$ \\frac{a}{b},\\ waarbij \\ a, b \\in \\mathbb{Z} \\ en \\ b \\ne 0$$\n",
        "\n",
        "geschreven kunnen worden. Bijvoorbeeld $\\sqrt{2}$ kan niet worden geschreven als een ratio $\\frac{a}{b}$, waarvan de kwadraat gelijk is aan $2$.\n",
        "\n",
        "Samen met $\\mathbb{Z}$ vormen deze irrationale getallen de verzameling van reële getallen, $\\mathbb{R}$."
      ]
    },
    {
      "cell_type": "code",
      "metadata": {
        "id": "q2ufBIzQ4z1N",
        "colab_type": "code",
        "colab": {}
      },
      "source": [
        "import math\n",
        "\n",
        "R = [2**0.5, math.pi]\n",
        "R.extend(Q)\n",
        "print(sorted(R))"
      ],
      "execution_count": 0,
      "outputs": []
    },
    {
      "cell_type": "markdown",
      "metadata": {
        "id": "WMTt8psI6Lcx",
        "colab_type": "text"
      },
      "source": [
        "Als laatste zijn er de imaginaire getallen, die we hier niet zullen behandelen, maar waarmee de verzamelingen van complexe getallen wordt gevormd, $\\mathbb{C}$\n",
        "\n",
        "Merk op dat $\\mathbb{N} \\subset \\mathbb{Z} \\subset \\mathbb{Q} \\subset \\mathbb{R} \\subset \\mathbb{C}$\n",
        "\n",
        "Bovenstaande reeks van verzamelingen kan worden onthouden met de mnemonic\n",
        "\n",
        "$$\\mathbb{N}ine \\ \\mathbb{Z}ulu \\ \\mathbb{Q}ueens \\ \\mathbb{R}uled \\ \\mathbb{C}hina$$"
      ]
    }
  ]
}